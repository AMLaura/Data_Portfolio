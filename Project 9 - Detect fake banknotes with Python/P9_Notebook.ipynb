{
 "cells": [
  {
   "cell_type": "markdown",
   "id": "912564fe",
   "metadata": {},
   "source": [
    "# Projet 9 : Détection de faux billets\n",
    "\n",
    "\n",
    "Selon l'Office central pour la répression du faux-monnayage à la direction centrale de la police judiciaire (France), 700 000 faux billets circuleraient dans la zone euro, dont 30 à 40 % seraient émis depuis la France.\n",
    "\n",
    "En 2021, 12 billets contrefaits ont été détectés par million de coupures authentiques en circulation.\n",
    "\n",
    "Les faux billets que l’on retrouve le plus en circulation sont les coupures de 20 et 50 euros, avec régulièrement des pics constatés avec les billets de 100 euros. \n",
    "\n",
    "L'euro est le billet le plus sécurisé au monde, avec une dizaine de signes de sécurité apparents utilisant les meilleures techniques du moment : \n",
    "- Filigrane \n",
    "- Taille douce (le papier est imprimé par une plaque de cuivre dans laquelle divers motifs sont taillés en creux, ce qui procure au dessin un léger relief) \n",
    "- Fil métallique incorporé \n",
    "- Vision par transparence (un demi-motif est reproduit sur chaque face et l'image complète n'apparaît que par transparence) ; papier à texture spéciale \n",
    "- Microlettres ; encres à couleur changeante ou magnétisées \n",
    "- Hologramme (image en trois dimensions réalisée par des faisceaux laser). \n",
    "\n",
    "Ces signes sont complétés par des techniques de prévention plus ou moins élaborées, telles que le chiffrage des billets (un billet comporte une lettre, chaque État membre ayant sa propre lettre – u pour la France – suivie de 11 chiffres). Dans une série de billets, le chiffre des unités croît, tandis que celui des dizaines décroît. \n",
    "\n",
    "D'autres signes sont tenus secrets.\n",
    "\n",
    "\n",
    "Il est interdit de le remettre en circulation (article 442-7 du code pénal). Les billets faux doivent être remis à la Banque de France (article L. 162-2 du code monétaire et financier) contre un reçu."
   ]
  },
  {
   "cell_type": "code",
   "execution_count": 1,
   "id": "d84f8ed9",
   "metadata": {},
   "outputs": [],
   "source": [
    "import math\n",
    "import numpy as np\n",
    "import pandas as pd\n",
    "import statsmodels.api as sm\n",
    "import statsmodels.formula.api as smf\n",
    "import scipy.stats as st\n",
    "\n",
    "# Représentation graphique:\n",
    "import matplotlib.pyplot as plt\n",
    "import seaborn as sns\n",
    "\n",
    "# Régression lineaire:\n",
    "from statsmodels.formula.api import ols\n",
    "from statsmodels.stats.diagnostic import het_white , normal_ad\n",
    "from sklearn.linear_model import LinearRegression\n",
    "\n",
    "# Régression logistique:\n",
    "from statsmodels.api import Logit\n",
    "from statsmodels.genmod.generalized_linear_model import GLM\n",
    "from statsmodels.stats.outliers_influence import variance_inflation_factor\n",
    "from sklearn.metrics import roc_auc_score , roc_curve, accuracy_score , precision_score, recall_score\n",
    "\n",
    "# K-mean:\n",
    "from sklearn import decomposition\n",
    "from sklearn.cluster import KMeans\n",
    "from sklearn.decomposition import PCA\n",
    "\n",
    "# Options globales pour l'output display:\n",
    "pd.options.display.float_format = \"{:.3f}\".format\n",
    "\n",
    "# Importation des données:\n",
    "Billet_df = pd.read_csv(\"billets.csv\")               "
   ]
  },
  {
   "cell_type": "markdown",
   "id": "7d9ea47f",
   "metadata": {},
   "source": [
    "# 1) Informations générales concernant la structure d'un billet"
   ]
  },
  {
   "cell_type": "markdown",
   "id": "23378dde",
   "metadata": {},
   "source": [
    "Informations concernant la structure d'un billet : \n",
    "- length : la longueur du billet (en mm)\n",
    "- height_left : la hauteur du billet (mesurée sur le côté gauche, en mm)\n",
    "- height_right : la hauteur du billet (mesurée sur le côté droit, en mm)\n",
    "- margin_up : la marge entre le bord supérieur du billet et l'image de celui-ci (en mm)\n",
    "- margin_low : la marge entre le bord inférieur du billet et l'image de celui-ci (en mm)\n",
    "- diagonal : la diagonale du billet (en mm)"
   ]
  },
  {
   "cell_type": "markdown",
   "id": "fc0187b3",
   "metadata": {},
   "source": [
    "## Stucture de la table des données"
   ]
  },
  {
   "cell_type": "code",
   "execution_count": 2,
   "id": "c2ede13b",
   "metadata": {},
   "outputs": [
    {
     "data": {
      "text/plain": [
       "(1500, 7)"
      ]
     },
     "execution_count": 2,
     "metadata": {},
     "output_type": "execute_result"
    }
   ],
   "source": [
    "Billet_df.shape"
   ]
  },
  {
   "cell_type": "markdown",
   "id": "19be06c0",
   "metadata": {},
   "source": [
    "Nous avons une tableau avec 1500 lignes et 7 variables."
   ]
  },
  {
   "cell_type": "code",
   "execution_count": 3,
   "id": "43d009d8",
   "metadata": {},
   "outputs": [
    {
     "name": "stdout",
     "output_type": "stream",
     "text": [
      "<class 'pandas.core.frame.DataFrame'>\n",
      "RangeIndex: 1500 entries, 0 to 1499\n",
      "Data columns (total 7 columns):\n",
      " #   Column        Non-Null Count  Dtype  \n",
      "---  ------        --------------  -----  \n",
      " 0   is_genuine    1500 non-null   bool   \n",
      " 1   diagonal      1500 non-null   float64\n",
      " 2   height_left   1500 non-null   float64\n",
      " 3   height_right  1500 non-null   float64\n",
      " 4   margin_low    1463 non-null   float64\n",
      " 5   margin_up     1500 non-null   float64\n",
      " 6   length        1500 non-null   float64\n",
      "dtypes: bool(1), float64(6)\n",
      "memory usage: 71.9 KB\n"
     ]
    }
   ],
   "source": [
    "Billet_df.info()"
   ]
  },
  {
   "cell_type": "code",
   "execution_count": 4,
   "id": "ed6bdf31",
   "metadata": {},
   "outputs": [
    {
     "data": {
      "text/plain": [
       "is_genuine       0\n",
       "diagonal         0\n",
       "height_left      0\n",
       "height_right     0\n",
       "margin_low      37\n",
       "margin_up        0\n",
       "length           0\n",
       "dtype: int64"
      ]
     },
     "execution_count": 4,
     "metadata": {},
     "output_type": "execute_result"
    }
   ],
   "source": [
    "# Nous allons vérifier s'il y a des valeurs manquantes\n",
    "Billet_df.isnull().sum()"
   ]
  },
  {
   "cell_type": "markdown",
   "id": "2484aff4",
   "metadata": {},
   "source": [
    "Dans la colonne \"margin_low\", 37 variables sont manquantes."
   ]
  },
  {
   "cell_type": "code",
   "execution_count": 5,
   "id": "c3d37d34",
   "metadata": {},
   "outputs": [
    {
     "data": {
      "text/plain": [
       "is_genuine       0.667\n",
       "diagonal       171.958\n",
       "height_left    104.030\n",
       "height_right   103.920\n",
       "margin_low       4.486\n",
       "margin_up        3.151\n",
       "length         112.679\n",
       "dtype: float64"
      ]
     },
     "execution_count": 5,
     "metadata": {},
     "output_type": "execute_result"
    }
   ],
   "source": [
    "Billet_df.mean()"
   ]
  },
  {
   "cell_type": "code",
   "execution_count": 6,
   "id": "1545785e",
   "metadata": {},
   "outputs": [
    {
     "data": {
      "text/html": [
       "<div>\n",
       "<style scoped>\n",
       "    .dataframe tbody tr th:only-of-type {\n",
       "        vertical-align: middle;\n",
       "    }\n",
       "\n",
       "    .dataframe tbody tr th {\n",
       "        vertical-align: top;\n",
       "    }\n",
       "\n",
       "    .dataframe thead th {\n",
       "        text-align: right;\n",
       "    }\n",
       "</style>\n",
       "<table border=\"1\" class=\"dataframe\">\n",
       "  <thead>\n",
       "    <tr style=\"text-align: right;\">\n",
       "      <th></th>\n",
       "      <th>diagonal</th>\n",
       "      <th>height_left</th>\n",
       "      <th>height_right</th>\n",
       "      <th>margin_low</th>\n",
       "      <th>margin_up</th>\n",
       "      <th>length</th>\n",
       "    </tr>\n",
       "    <tr>\n",
       "      <th>is_genuine</th>\n",
       "      <th></th>\n",
       "      <th></th>\n",
       "      <th></th>\n",
       "      <th></th>\n",
       "      <th></th>\n",
       "      <th></th>\n",
       "    </tr>\n",
       "  </thead>\n",
       "  <tbody>\n",
       "    <tr>\n",
       "      <th>False</th>\n",
       "      <td>171.901</td>\n",
       "      <td>104.190</td>\n",
       "      <td>104.144</td>\n",
       "      <td>5.216</td>\n",
       "      <td>3.350</td>\n",
       "      <td>111.631</td>\n",
       "    </tr>\n",
       "    <tr>\n",
       "      <th>True</th>\n",
       "      <td>171.987</td>\n",
       "      <td>103.949</td>\n",
       "      <td>103.809</td>\n",
       "      <td>4.116</td>\n",
       "      <td>3.052</td>\n",
       "      <td>113.202</td>\n",
       "    </tr>\n",
       "  </tbody>\n",
       "</table>\n",
       "</div>"
      ],
      "text/plain": [
       "            diagonal  height_left  height_right  margin_low  margin_up  length\n",
       "is_genuine                                                                    \n",
       "False        171.901      104.190       104.144       5.216      3.350 111.631\n",
       "True         171.987      103.949       103.809       4.116      3.052 113.202"
      ]
     },
     "execution_count": 6,
     "metadata": {},
     "output_type": "execute_result"
    }
   ],
   "source": [
    "Billet_df.groupby(by=\"is_genuine\").mean()"
   ]
  },
  {
   "cell_type": "markdown",
   "id": "f7250ae1",
   "metadata": {},
   "source": [
    "## Matrice des corrélations"
   ]
  },
  {
   "cell_type": "code",
   "execution_count": 7,
   "id": "41edbfaf",
   "metadata": {},
   "outputs": [
    {
     "data": {
      "text/html": [
       "<div>\n",
       "<style scoped>\n",
       "    .dataframe tbody tr th:only-of-type {\n",
       "        vertical-align: middle;\n",
       "    }\n",
       "\n",
       "    .dataframe tbody tr th {\n",
       "        vertical-align: top;\n",
       "    }\n",
       "\n",
       "    .dataframe thead th {\n",
       "        text-align: right;\n",
       "    }\n",
       "</style>\n",
       "<table border=\"1\" class=\"dataframe\">\n",
       "  <thead>\n",
       "    <tr style=\"text-align: right;\">\n",
       "      <th></th>\n",
       "      <th>is_genuine</th>\n",
       "      <th>diagonal</th>\n",
       "      <th>height_left</th>\n",
       "      <th>height_right</th>\n",
       "      <th>margin_low</th>\n",
       "      <th>margin_up</th>\n",
       "      <th>length</th>\n",
       "    </tr>\n",
       "  </thead>\n",
       "  <tbody>\n",
       "    <tr>\n",
       "      <th>is_genuine</th>\n",
       "      <td>1.000</td>\n",
       "      <td>0.133</td>\n",
       "      <td>-0.380</td>\n",
       "      <td>-0.485</td>\n",
       "      <td>-0.783</td>\n",
       "      <td>-0.606</td>\n",
       "      <td>0.849</td>\n",
       "    </tr>\n",
       "    <tr>\n",
       "      <th>diagonal</th>\n",
       "      <td>0.133</td>\n",
       "      <td>1.000</td>\n",
       "      <td>0.019</td>\n",
       "      <td>-0.024</td>\n",
       "      <td>-0.112</td>\n",
       "      <td>-0.056</td>\n",
       "      <td>0.098</td>\n",
       "    </tr>\n",
       "    <tr>\n",
       "      <th>height_left</th>\n",
       "      <td>-0.380</td>\n",
       "      <td>0.019</td>\n",
       "      <td>1.000</td>\n",
       "      <td>0.242</td>\n",
       "      <td>0.303</td>\n",
       "      <td>0.247</td>\n",
       "      <td>-0.321</td>\n",
       "    </tr>\n",
       "    <tr>\n",
       "      <th>height_right</th>\n",
       "      <td>-0.485</td>\n",
       "      <td>-0.024</td>\n",
       "      <td>0.242</td>\n",
       "      <td>1.000</td>\n",
       "      <td>0.391</td>\n",
       "      <td>0.307</td>\n",
       "      <td>-0.402</td>\n",
       "    </tr>\n",
       "    <tr>\n",
       "      <th>margin_low</th>\n",
       "      <td>-0.783</td>\n",
       "      <td>-0.112</td>\n",
       "      <td>0.303</td>\n",
       "      <td>0.391</td>\n",
       "      <td>1.000</td>\n",
       "      <td>0.432</td>\n",
       "      <td>-0.667</td>\n",
       "    </tr>\n",
       "    <tr>\n",
       "      <th>margin_up</th>\n",
       "      <td>-0.606</td>\n",
       "      <td>-0.056</td>\n",
       "      <td>0.247</td>\n",
       "      <td>0.307</td>\n",
       "      <td>0.432</td>\n",
       "      <td>1.000</td>\n",
       "      <td>-0.521</td>\n",
       "    </tr>\n",
       "    <tr>\n",
       "      <th>length</th>\n",
       "      <td>0.849</td>\n",
       "      <td>0.098</td>\n",
       "      <td>-0.321</td>\n",
       "      <td>-0.402</td>\n",
       "      <td>-0.667</td>\n",
       "      <td>-0.521</td>\n",
       "      <td>1.000</td>\n",
       "    </tr>\n",
       "  </tbody>\n",
       "</table>\n",
       "</div>"
      ],
      "text/plain": [
       "              is_genuine  diagonal  height_left  height_right  margin_low  \\\n",
       "is_genuine         1.000     0.133       -0.380        -0.485      -0.783   \n",
       "diagonal           0.133     1.000        0.019        -0.024      -0.112   \n",
       "height_left       -0.380     0.019        1.000         0.242       0.303   \n",
       "height_right      -0.485    -0.024        0.242         1.000       0.391   \n",
       "margin_low        -0.783    -0.112        0.303         0.391       1.000   \n",
       "margin_up         -0.606    -0.056        0.247         0.307       0.432   \n",
       "length             0.849     0.098       -0.321        -0.402      -0.667   \n",
       "\n",
       "              margin_up  length  \n",
       "is_genuine       -0.606   0.849  \n",
       "diagonal         -0.056   0.098  \n",
       "height_left       0.247  -0.321  \n",
       "height_right      0.307  -0.402  \n",
       "margin_low        0.432  -0.667  \n",
       "margin_up         1.000  -0.521  \n",
       "length           -0.521   1.000  "
      ]
     },
     "execution_count": 7,
     "metadata": {},
     "output_type": "execute_result"
    }
   ],
   "source": [
    "corr_df = Billet_df.corr()\n",
    "mb=pd.DataFrame(corr_df)\n",
    "mb.head(10)"
   ]
  },
  {
   "cell_type": "code",
   "execution_count": 8,
   "id": "fae31d5c",
   "metadata": {},
   "outputs": [
    {
     "data": {
      "text/plain": [
       "<AxesSubplot:>"
      ]
     },
     "execution_count": 8,
     "metadata": {},
     "output_type": "execute_result"
    },
    {
     "data": {
      "image/png": "[encoded data removed]",
      "text/plain": [
       "<Figure size 432x288 with 2 Axes>"
      ]
     },
     "metadata": {
      "needs_background": "light"
     },
     "output_type": "display_data"
    }
   ],
   "source": [
    "# heatmap de corrélations entre les différentes variables\n",
    "sns.heatmap(Billet_df.corr(), annot=True)"
   ]
  },
  {
   "cell_type": "code",
   "execution_count": 9,
   "id": "061b95e9",
   "metadata": {},
   "outputs": [
    {
     "data": {
      "text/plain": [
       "Text(0.5, 1.0, 'Taux des vrais et faux billets')"
      ]
     },
     "execution_count": 9,
     "metadata": {},
     "output_type": "execute_result"
    },
    {
     "data": {
      "image/png": "[encoded data removed]",
      "text/plain": [
       "<Figure size 432x288 with 1 Axes>"
      ]
     },
     "metadata": {},
     "output_type": "display_data"
    }
   ],
   "source": [
    "# Diagramme en fonction des faux billets et des vrais billets\n",
    "Billet_df[['is_genuine']].value_counts().plot.pie(autopct = lambda x: str(round(x, 2)) + '%')\n",
    "plt.title('Taux des vrais et faux billets')"
   ]
  },
  {
   "cell_type": "code",
   "execution_count": 10,
   "id": "d73d4176",
   "metadata": {},
   "outputs": [
    {
     "data": {
      "text/html": [
       "<div>\n",
       "<style scoped>\n",
       "    .dataframe tbody tr th:only-of-type {\n",
       "        vertical-align: middle;\n",
       "    }\n",
       "\n",
       "    .dataframe tbody tr th {\n",
       "        vertical-align: top;\n",
       "    }\n",
       "\n",
       "    .dataframe thead th {\n",
       "        text-align: right;\n",
       "    }\n",
       "</style>\n",
       "<table border=\"1\" class=\"dataframe\">\n",
       "  <thead>\n",
       "    <tr style=\"text-align: right;\">\n",
       "      <th></th>\n",
       "      <th>diagonal</th>\n",
       "      <th>height_left</th>\n",
       "      <th>height_right</th>\n",
       "      <th>margin_low</th>\n",
       "      <th>margin_up</th>\n",
       "      <th>length</th>\n",
       "    </tr>\n",
       "    <tr>\n",
       "      <th>is_genuine</th>\n",
       "      <th></th>\n",
       "      <th></th>\n",
       "      <th></th>\n",
       "      <th></th>\n",
       "      <th></th>\n",
       "      <th></th>\n",
       "    </tr>\n",
       "  </thead>\n",
       "  <tbody>\n",
       "    <tr>\n",
       "      <th>False</th>\n",
       "      <td>171.901</td>\n",
       "      <td>104.190</td>\n",
       "      <td>104.144</td>\n",
       "      <td>5.216</td>\n",
       "      <td>3.350</td>\n",
       "      <td>111.631</td>\n",
       "    </tr>\n",
       "    <tr>\n",
       "      <th>True</th>\n",
       "      <td>171.987</td>\n",
       "      <td>103.949</td>\n",
       "      <td>103.809</td>\n",
       "      <td>4.116</td>\n",
       "      <td>3.052</td>\n",
       "      <td>113.202</td>\n",
       "    </tr>\n",
       "  </tbody>\n",
       "</table>\n",
       "</div>"
      ],
      "text/plain": [
       "            diagonal  height_left  height_right  margin_low  margin_up  length\n",
       "is_genuine                                                                    \n",
       "False        171.901      104.190       104.144       5.216      3.350 111.631\n",
       "True         171.987      103.949       103.809       4.116      3.052 113.202"
      ]
     },
     "execution_count": 10,
     "metadata": {},
     "output_type": "execute_result"
    }
   ],
   "source": [
    "Billet_df.groupby(by=\"is_genuine\").mean()"
   ]
  },
  {
   "cell_type": "markdown",
   "id": "f528ec9b",
   "metadata": {},
   "source": [
    "# 2) Traitement des valeurs manquantes"
   ]
  },
  {
   "cell_type": "markdown",
   "id": "71f82627",
   "metadata": {},
   "source": [
    "Utilisation du modèle de régression linéaire multivariables pour traiter nos valeurs manquantes\n",
    "Nous allons séparer le dataframe original en 2:\n",
    "\n",
    "- Un dataframe sans valeur manquantes que nous utiliserons pour notre régression liniéaire\n",
    "- Un dataframe avec uniquement les valeurs manquantes pour appliquer notre modèle"
   ]
  },
  {
   "cell_type": "code",
   "execution_count": 11,
   "id": "63892bc2",
   "metadata": {},
   "outputs": [
    {
     "name": "stderr",
     "output_type": "stream",
     "text": [
      "C:\\Users\\acmla\\AppData\\Local\\Temp/ipykernel_23752/4075991522.py:15: SettingWithCopyWarning: \n",
      "A value is trying to be set on a copy of a slice from a DataFrame.\n",
      "Try using .loc[row_indexer,col_indexer] = value instead\n",
      "\n",
      "See the caveats in the documentation: https://pandas.pydata.org/pandas-docs/stable/user_guide/indexing.html#returning-a-view-versus-a-copy\n",
      "  Reg_Lin_Train_df[\"margin_low_pred\"] = reg_lin.predict(x_train)\n"
     ]
    }
   ],
   "source": [
    "# Séparation des données manquantes :\n",
    "Reg_Lin_Train_df = Billet_df.dropna()\n",
    "Reg_Lin_Test_df = Billet_df[Billet_df.isnull().any(axis=1)]\n",
    "\n",
    "# Création de X_train et Y_train:\n",
    "x_train = Reg_Lin_Train_df.drop(\"margin_low\", axis=1)\n",
    "y_train = Reg_Lin_Train_df[\"margin_low\"]\n",
    "\n",
    "# Régression linéaire:\n",
    "reg_lin = LinearRegression()\n",
    "model_reg_lin = reg_lin.fit(x_train, y_train)\n",
    "\n",
    "# Prédictions:\n",
    "x_train = Reg_Lin_Train_df[[\"is_genuine\",\"diagonal\",\"height_left\",\"height_right\", \"margin_up\", \"length\"]]\n",
    "Reg_Lin_Train_df[\"margin_low_pred\"] = reg_lin.predict(x_train)"
   ]
  },
  {
   "cell_type": "code",
   "execution_count": 12,
   "id": "2a6a3d52",
   "metadata": {},
   "outputs": [
    {
     "name": "stdout",
     "output_type": "stream",
     "text": [
      "Intercept: 2.866822892054086\n",
      "Coéfficients: [-1.14059676 -0.0130159   0.02829069  0.02674982 -0.21284432 -0.00388299]\n"
     ]
    }
   ],
   "source": [
    "print(\"Intercept:\", model_reg_lin.intercept_)\n",
    "print(\"Coéfficients:\", model_reg_lin.coef_)"
   ]
  },
  {
   "cell_type": "code",
   "execution_count": 13,
   "id": "957f31ba",
   "metadata": {},
   "outputs": [
    {
     "name": "stdout",
     "output_type": "stream",
     "text": [
      "                            OLS Regression Results                            \n",
      "==============================================================================\n",
      "Dep. Variable:             margin_low   R-squared:                       0.477\n",
      "Model:                            OLS   Adj. R-squared:                  0.476\n",
      "Method:                 Least Squares   F-statistic:                     266.1\n",
      "Date:                Wed, 09 Nov 2022   Prob (F-statistic):          2.60e-202\n",
      "Time:                        21:27:49   Log-Likelihood:                -1001.3\n",
      "No. Observations:                1463   AIC:                             2015.\n",
      "Df Residuals:                    1457   BIC:                             2046.\n",
      "Df Model:                           5                                         \n",
      "Covariance Type:            nonrobust                                         \n",
      "================================================================================\n",
      "                   coef    std err          t      P>|t|      [0.025      0.975]\n",
      "--------------------------------------------------------------------------------\n",
      "Intercept       22.9948      9.656      2.382      0.017       4.055      41.935\n",
      "diagonal        -0.1111      0.041     -2.680      0.007      -0.192      -0.030\n",
      "height_left      0.1841      0.045      4.113      0.000       0.096       0.272\n",
      "height_right     0.2571      0.043      5.978      0.000       0.173       0.342\n",
      "margin_up        0.2562      0.064      3.980      0.000       0.130       0.382\n",
      "length          -0.4091      0.018    -22.627      0.000      -0.445      -0.374\n",
      "==============================================================================\n",
      "Omnibus:                       73.627   Durbin-Watson:                   1.893\n",
      "Prob(Omnibus):                  0.000   Jarque-Bera (JB):               95.862\n",
      "Skew:                           0.482   Prob(JB):                     1.53e-21\n",
      "Kurtosis:                       3.801   Cond. No.                     1.94e+05\n",
      "==============================================================================\n",
      "\n",
      "Notes:\n",
      "[1] Standard Errors assume that the covariance matrix of the errors is correctly specified.\n",
      "[2] The condition number is large, 1.94e+05. This might indicate that there are\n",
      "strong multicollinearity or other numerical problems.\n"
     ]
    }
   ],
   "source": [
    "# Instanciation:\n",
    "reg_linb = smf.ols(\"margin_low ~ diagonal + height_left + height_right + margin_up + length\", data = Billet_df)\n",
    "\n",
    "# Calculs:\n",
    "res_lin = reg_linb.fit()\n",
    "print(res_lin.summary())"
   ]
  },
  {
   "cell_type": "code",
   "execution_count": 14,
   "id": "5bda5cf5",
   "metadata": {},
   "outputs": [
    {
     "name": "stdout",
     "output_type": "stream",
     "text": [
      "R2:  0.4773366973063955\n"
     ]
    }
   ],
   "source": [
    "print(\"R2: \", res_lin.rsquared)"
   ]
  },
  {
   "cell_type": "markdown",
   "id": "96765e03",
   "metadata": {},
   "source": [
    "Ce coefficient varie entre 0 et 1, soit entre un pouvoir de prédiction faible et un pouvoir de prédiction fort.\n",
    "\n",
    "Le coefficient de détermination (R², soit le carré du coefficient de corrélation linéaire r) est un indicateur qui permet de juger la qualité d’une régression linéaire simple. \n",
    "\n",
    "Il mesure l’adéquation entre le modèle et les données observées ou encore à quel point l’équation de régression est adaptée pour décrire la distribution des points."
   ]
  },
  {
   "cell_type": "markdown",
   "id": "59f37118",
   "metadata": {},
   "source": [
    "##### 1) Le test de Jarque-Bera (normalité):\n",
    "\n",
    "C'est un test d'hypothèse qui cherche à déterminer si des données suivent une loi normale : \n",
    "Comme pour chaque test d'hypothèse, il faut poser une hypothèse nulle à valider :\n",
    "- H0: les données suivent une loi normale.\n",
    "- H1: les données ne suivent pas une loi normale.\n",
    "\n",
    "Si la probabilité est inférieure à 5%, on rejette l'hypothèse nulle de la distribution normale. \n",
    "Si la probabilité est supérieure à 5% , on accepte l'hypothèse nulle de la distribution normale.\n",
    "\n",
    "\n",
    "##### 2) Le test Omnibus (normalité):\n",
    "L'une des hypothèses d'OLS est que les erreurs sont normalement distribuées. \n",
    "Un test omnibus est effectué afin de vérifier cela. \n",
    "Ho = Les erreurs sont normalement distribuées. \n",
    "Prob(Omnibus) est supposé être proche de 1 pour satisfaire l'hypothèse OLS. \n",
    "Dans ce cas, Prob(Omnibus) est de 0, ce qui implique que l'hypothèse OLS n'est pas satisfaite. \n",
    "Pour cette raison, les coefficients estimés à partir de celui-ci ne sont pas les meilleurs estimateurs linéaires sans biais.\n",
    "\n",
    "Pour vérifier la normalité, on va donc mettre en place un histogramme.\n",
    "\n",
    "##### 3) Le test de Durbin-Watson (autocorrélation) :\n",
    "C'est un test statistique destiné à tester l'autocorrélation des résidus dans un modèle de régression linéaire.\n",
    "Le test de Durbin-Watson cherche à vérifier la significativité du coefficient ρ dans la formule :\n",
    "\n",
    "- H0 : Il y a non auto-corrélation  \n",
    "- H1 : Il y a auto-corrélation\n",
    "\n",
    "La statistique DW prend ses valeurs entre 0 (auto-corrélation linéaire positive) et 4 (auto-corrélation linéaire négative). L'hypothèse nulle est retenue si la statistique a une valeur proche de 2 (pas d'auto-corrélation linéaire).\n",
    "\n",
    "##### 4) Kurtosis : \n",
    "\n",
    "Le coefficient d'aplatissement (K, kurtosis en anglais) évalue la dispersion des valeurs \"extrêmes\" par référence à la loi normale. \n",
    "Le coefficient d’aplatissement (en américain, kurtosis) est un coefficient particulièrement difficile à interpréter. On sait que, dans le cas d’une loi normale, il est égal à 3.\n",
    "Une distribution normale est mésokurtique"
   ]
  },
  {
   "cell_type": "markdown",
   "id": "87a7e73f",
   "metadata": {},
   "source": [
    "# 3) Tests\n",
    "\n",
    "## Une régression complète ne se limite pas au calcul des estimations. \n",
    "\n",
    "## En effet, il est indispensable de valider le modèle estimé, c’est-à-dire de vérifier son adéquation aux données analysées. \n",
    "\n",
    "## Pour cela, on utilise les résidus."
   ]
  },
  {
   "cell_type": "markdown",
   "id": "40b06984",
   "metadata": {},
   "source": [
    "- Normalité de la distribution des résidus \n",
    "- Homocédasticité \n",
    "- Autocorrélation \n",
    "- Multicollinéarité "
   ]
  },
  {
   "cell_type": "markdown",
   "id": "28bcb593",
   "metadata": {},
   "source": [
    "### Moyenne\n",
    "\n",
    "- Les résidus sont des approximations des erreurs inconnues e(i).\n",
    "- Une des propriétés est que la série des résidus possède une moyenne est nulle"
   ]
  },
  {
   "cell_type": "code",
   "execution_count": 15,
   "id": "3789392c",
   "metadata": {},
   "outputs": [
    {
     "name": "stderr",
     "output_type": "stream",
     "text": [
      "C:\\Users\\acmla\\AppData\\Local\\Temp/ipykernel_23752/2946626269.py:2: SettingWithCopyWarning: \n",
      "A value is trying to be set on a copy of a slice from a DataFrame.\n",
      "Try using .loc[row_indexer,col_indexer] = value instead\n",
      "\n",
      "See the caveats in the documentation: https://pandas.pydata.org/pandas-docs/stable/user_guide/indexing.html#returning-a-view-versus-a-copy\n",
      "  Reg_Lin_Train_df[\"residus\"] = Reg_Lin_Train_df[\"margin_low\"] - Reg_Lin_Train_df[\"margin_low_pred\"]\n"
     ]
    },
    {
     "data": {
      "text/plain": [
       "-5.463845370677462e-18"
      ]
     },
     "execution_count": 15,
     "metadata": {},
     "output_type": "execute_result"
    }
   ],
   "source": [
    "# La moyenne des residus est nulle car largement inférieure à 0:\n",
    "Reg_Lin_Train_df[\"residus\"] = Reg_Lin_Train_df[\"margin_low\"] - Reg_Lin_Train_df[\"margin_low_pred\"]\n",
    "Reg_Lin_Train_df[\"residus\"].mean()"
   ]
  },
  {
   "cell_type": "markdown",
   "id": "077ef368",
   "metadata": {},
   "source": [
    "### Normalité \n",
    "\n",
    "##### Test de la normalité des résidus\n",
    "Si les résidus Ei sont normalement distribués alors les erreurs εi le sont aussi.\n",
    "\n",
    "On peut tester si les résidus suivent une loi normale avec :\n",
    "*  Un histogramme.\n",
    "*  Un test de normalité (par ex. Shapiro-Wilk).\n",
    "*  Un graphique de probabilité normale des Ei\n",
    "\n",
    "Si le modèle est idéalement bon, alors les écarts que l’on constate entre les valeurs prédites et les valeurs observées (les résidus donc) sont entièrement imputables à des erreurs de mesure. De ce fait, les résidus doivent posséder les propriétés classiques d’une distribution normale : courbe « en cloche », symétrique autour de la valeur prédite, avec un aplatissement régulier des extrémités. En cas de violation de cette assomption, les tests de signification risquent d’être biaisés.\n",
    "\n",
    "On peut par exemple obtenir la « droite de Henry » qui met en relation les valeurs observées des résidus (abscisse) avec des valeurs z construites sous l’hypothèse que la distribution des résidus est normale. Idéalement, on doit avoir l’identité, c'est-à-dire que tous les points du graphe doivent être situés sur la droite en rouge\n",
    "\n",
    "#### Test de Shapiro-Wilk :\n",
    "Les tests de normalité impliquent l'hypothèse nulle que la variable ayant généré l'échantillon suit une distribution normale. \n",
    "\n",
    "Ainsi, une p-value faible indique un risque faible de se tromper en concluant que les données sont non-normales. En d'autres termes, si p-value < risque alpha, les données s'écartent significativement de la normalité."
   ]
  },
  {
   "cell_type": "code",
   "execution_count": 16,
   "id": "cfc1b65a",
   "metadata": {},
   "outputs": [
    {
     "name": "stderr",
     "output_type": "stream",
     "text": [
      "C:\\Users\\acmla\\anaconda3\\lib\\site-packages\\seaborn\\distributions.py:2619: FutureWarning: `distplot` is a deprecated function and will be removed in a future version. Please adapt your code to use either `displot` (a figure-level function with similar flexibility) or `histplot` (an axes-level function for histograms).\n",
      "  warnings.warn(msg, FutureWarning)\n"
     ]
    },
    {
     "name": "stdout",
     "output_type": "stream",
     "text": [
      "La p-value est de 3.9857722331535204e-05\n"
     ]
    },
    {
     "data": {
      "image/png": "[encoded data removed]",
      "text/plain": [
       "<Figure size 432x288 with 1 Axes>"
      ]
     },
     "metadata": {
      "needs_background": "light"
     },
     "output_type": "display_data"
    }
   ],
   "source": [
    "sns.distplot(Reg_Lin_Train_df[\"residus\"])\n",
    "\n",
    "# Normalite:\n",
    "print(\"La p-value est de\", normal_ad(Reg_Lin_Train_df[\"residus\"])[1])\n",
    "plt.xlabel(\"Résidus\")\n",
    "plt.ylabel(\"\")\n",
    "plt.title(\"Distribution des résidus\")\n",
    "plt.show()"
   ]
  },
  {
   "cell_type": "code",
   "execution_count": 17,
   "id": "ac2cc36b",
   "metadata": {},
   "outputs": [
    {
     "data": {
      "image/png": "[encoded data removed]",
      "text/plain": [
       "<Figure size 432x180 with 1 Axes>"
      ]
     },
     "metadata": {
      "needs_background": "light"
     },
     "output_type": "display_data"
    }
   ],
   "source": [
    "import scipy as sp\n",
    "fig, ax = plt.subplots(figsize=(6,2.5))\n",
    "_, (__, ___, r) = sp.stats.probplot(Reg_Lin_Train_df[\"residus\"], plot=ax, fit=True)\n",
    "plt.xlabel(\"Valeurs observées des résidus\")\n",
    "plt.ylabel(\"Valeurs normale théorique\")\n",
    "plt.title(\"Droite d'Henry\")\n",
    "plt.show()"
   ]
  },
  {
   "cell_type": "markdown",
   "id": "2f2eb448",
   "metadata": {},
   "source": [
    "En principe, tous les points du graphe doivent être situés sur la droite en rouge. \n",
    "\n",
    "Ici nous pouvons observe que le résultat est assez satisfaisant bien qu'il existe un très léger biais au niveau des valeurs extrêmes."
   ]
  },
  {
   "cell_type": "markdown",
   "id": "af39a4d9",
   "metadata": {},
   "source": [
    "### L'homoscédasticité  :\n",
    "\n",
    "C'est une caractéristique d'un modèle de régression linéaire qui implique que la variance des erreurs est constante dans le temps.\n",
    "\n",
    "Ce terme, qui s'oppose à l'hétéroscédasticité, est utilisé pour désigner la propriété de certains modèles de régression linéaire dans lesquels les erreurs d'estimation sont constantes tout au long des observations. Une variance constante nous permet d'avoir des modèles plus fiables. De plus, si une variance, en plus d'être constante, est également plus petite, cela se traduira par une prédiction de modèle plus fiable.\n",
    "\n",
    "L'homoscédasticité est une propriété souhaitable des erreurs dans un modèle de régression simple."
   ]
  },
  {
   "cell_type": "code",
   "execution_count": 18,
   "id": "b6e64f3d",
   "metadata": {},
   "outputs": [
    {
     "name": "stdout",
     "output_type": "stream",
     "text": [
      "{'Test Statistic': 109.86015196890001, 'p-value': 2.0828244987712717e-14, 'F-Statistic': 5.853731207814999, 'F-Test p-value': 4.974865092167631e-15}\n"
     ]
    },
    {
     "data": {
      "text/plain": [
       "Text(0.5, 1.0, 'Homoscédasticité')"
      ]
     },
     "execution_count": 18,
     "metadata": {},
     "output_type": "execute_result"
    },
    {
     "data": {
      "image/png": "[encoded data removed]",
      "text/plain": [
       "<Figure size 576x288 with 1 Axes>"
      ]
     },
     "metadata": {
      "needs_background": "light"
     },
     "output_type": "display_data"
    }
   ],
   "source": [
    "white_test = het_white(res_lin.resid, res_lin.model.exog)\n",
    "labels_white_test = [\"Test Statistic\", \"p-value\", \"F-Statistic\", \"F-Test p-value\"]\n",
    "print(dict(zip(labels_white_test, white_test)))\n",
    "\n",
    "\n",
    "plt.subplots(figsize=(8, 4))\n",
    "plt.scatter(x=Reg_Lin_Train_df.index, y=Reg_Lin_Train_df[\"residus\"], alpha=0.8)\n",
    "plt.plot(np.repeat(0, len(Reg_Lin_Train_df.index)+2), color=\"black\", linestyle='--')\n",
    "plt.title(\"Homoscédasticité\")"
   ]
  },
  {
   "cell_type": "markdown",
   "id": "e66294a0",
   "metadata": {},
   "source": [
    "La répartition semble aléatoire sur le graphique. \n",
    "\n",
    "H0 : Il y a homoscédasticité. Les résidus sont dispersés aléatoirement, la variance d'un individu à un autre est constante \n",
    "\n",
    "H1: Il y a hétéroscédasticité. \n",
    "\n",
    "La p-value (5%) est inférieure au seuil, on ne peut pas rejeter l'hypothèse nulle d'homoscédasticité. L'hypothèse d'homoscédasticité de notre régression linéaire est vérifiée."
   ]
  },
  {
   "cell_type": "markdown",
   "id": "99637dd0",
   "metadata": {},
   "source": [
    "### La multicolinéarité \n",
    "\n",
    "La multicolinéarité est la forte corrélation entre plus de deux variables explicatives."
   ]
  },
  {
   "cell_type": "code",
   "execution_count": 19,
   "id": "02d2d8dd",
   "metadata": {},
   "outputs": [
    {
     "data": {
      "text/plain": [
       "[1.0136128990686293,\n",
       " 1.1382605736082447,\n",
       " 1.2301145155560367,\n",
       " 1.4044037781843608,\n",
       " 1.5769501453665835]"
      ]
     },
     "execution_count": 19,
     "metadata": {},
     "output_type": "execute_result"
    }
   ],
   "source": [
    "variables = res_lin.model.exog\n",
    "[variance_inflation_factor(variables, i) for i in np.arange(1,variables.shape[1])]"
   ]
  },
  {
   "cell_type": "markdown",
   "id": "8289744a",
   "metadata": {},
   "source": [
    "Ici, tous les coefficients sont inférieurs à 10, il n'y a donc pas de problème de colinéarité.\n",
    "L’absence de multicolinéarité parfaite est une des conditions requises pour pouvoir estimer un modèle linéaire et, par extension, un modèle linéaire généralisé"
   ]
  },
  {
   "cell_type": "markdown",
   "id": "30b3a1bd",
   "metadata": {},
   "source": [
    "## Application du modèle sur les données"
   ]
  },
  {
   "cell_type": "code",
   "execution_count": 20,
   "id": "87904f96",
   "metadata": {},
   "outputs": [
    {
     "name": "stdout",
     "output_type": "stream",
     "text": [
      "<class 'pandas.core.frame.DataFrame'>\n",
      "Int64Index: 1500 entries, 72 to 1499\n",
      "Data columns (total 7 columns):\n",
      " #   Column        Non-Null Count  Dtype  \n",
      "---  ------        --------------  -----  \n",
      " 0   is_genuine    1500 non-null   bool   \n",
      " 1   diagonal      1500 non-null   float64\n",
      " 2   height_left   1500 non-null   float64\n",
      " 3   height_right  1500 non-null   float64\n",
      " 4   margin_low    1500 non-null   float64\n",
      " 5   margin_up     1500 non-null   float64\n",
      " 6   length        1500 non-null   float64\n",
      "dtypes: bool(1), float64(6)\n",
      "memory usage: 83.5 KB\n"
     ]
    },
    {
     "name": "stderr",
     "output_type": "stream",
     "text": [
      "C:\\Users\\acmla\\AppData\\Local\\Temp/ipykernel_23752/3575104208.py:3: SettingWithCopyWarning: \n",
      "A value is trying to be set on a copy of a slice from a DataFrame.\n",
      "Try using .loc[row_indexer,col_indexer] = value instead\n",
      "\n",
      "See the caveats in the documentation: https://pandas.pydata.org/pandas-docs/stable/user_guide/indexing.html#returning-a-view-versus-a-copy\n",
      "  Reg_Lin_Test_df[\"margin_low\"] = reg_lin.predict(x_test)\n"
     ]
    },
    {
     "data": {
      "text/html": [
       "<div>\n",
       "<style scoped>\n",
       "    .dataframe tbody tr th:only-of-type {\n",
       "        vertical-align: middle;\n",
       "    }\n",
       "\n",
       "    .dataframe tbody tr th {\n",
       "        vertical-align: top;\n",
       "    }\n",
       "\n",
       "    .dataframe thead th {\n",
       "        text-align: right;\n",
       "    }\n",
       "</style>\n",
       "<table border=\"1\" class=\"dataframe\">\n",
       "  <thead>\n",
       "    <tr style=\"text-align: right;\">\n",
       "      <th></th>\n",
       "      <th>diagonal</th>\n",
       "      <th>height_left</th>\n",
       "      <th>height_right</th>\n",
       "      <th>margin_low</th>\n",
       "      <th>margin_up</th>\n",
       "      <th>length</th>\n",
       "    </tr>\n",
       "  </thead>\n",
       "  <tbody>\n",
       "    <tr>\n",
       "      <th>count</th>\n",
       "      <td>1500.000</td>\n",
       "      <td>1500.000</td>\n",
       "      <td>1500.000</td>\n",
       "      <td>1500.000</td>\n",
       "      <td>1500.000</td>\n",
       "      <td>1500.000</td>\n",
       "    </tr>\n",
       "    <tr>\n",
       "      <th>mean</th>\n",
       "      <td>171.958</td>\n",
       "      <td>104.030</td>\n",
       "      <td>103.920</td>\n",
       "      <td>4.483</td>\n",
       "      <td>3.151</td>\n",
       "      <td>112.679</td>\n",
       "    </tr>\n",
       "    <tr>\n",
       "      <th>std</th>\n",
       "      <td>0.305</td>\n",
       "      <td>0.299</td>\n",
       "      <td>0.326</td>\n",
       "      <td>0.660</td>\n",
       "      <td>0.232</td>\n",
       "      <td>0.873</td>\n",
       "    </tr>\n",
       "    <tr>\n",
       "      <th>min</th>\n",
       "      <td>171.040</td>\n",
       "      <td>103.140</td>\n",
       "      <td>102.820</td>\n",
       "      <td>2.980</td>\n",
       "      <td>2.270</td>\n",
       "      <td>109.490</td>\n",
       "    </tr>\n",
       "    <tr>\n",
       "      <th>25%</th>\n",
       "      <td>171.750</td>\n",
       "      <td>103.820</td>\n",
       "      <td>103.710</td>\n",
       "      <td>4.027</td>\n",
       "      <td>2.990</td>\n",
       "      <td>112.030</td>\n",
       "    </tr>\n",
       "    <tr>\n",
       "      <th>50%</th>\n",
       "      <td>171.960</td>\n",
       "      <td>104.040</td>\n",
       "      <td>103.920</td>\n",
       "      <td>4.310</td>\n",
       "      <td>3.140</td>\n",
       "      <td>112.960</td>\n",
       "    </tr>\n",
       "    <tr>\n",
       "      <th>75%</th>\n",
       "      <td>172.170</td>\n",
       "      <td>104.230</td>\n",
       "      <td>104.150</td>\n",
       "      <td>4.870</td>\n",
       "      <td>3.310</td>\n",
       "      <td>113.340</td>\n",
       "    </tr>\n",
       "    <tr>\n",
       "      <th>max</th>\n",
       "      <td>173.010</td>\n",
       "      <td>104.880</td>\n",
       "      <td>104.950</td>\n",
       "      <td>6.900</td>\n",
       "      <td>3.910</td>\n",
       "      <td>114.440</td>\n",
       "    </tr>\n",
       "  </tbody>\n",
       "</table>\n",
       "</div>"
      ],
      "text/plain": [
       "       diagonal  height_left  height_right  margin_low  margin_up   length\n",
       "count  1500.000     1500.000      1500.000    1500.000   1500.000 1500.000\n",
       "mean    171.958      104.030       103.920       4.483      3.151  112.679\n",
       "std       0.305        0.299         0.326       0.660      0.232    0.873\n",
       "min     171.040      103.140       102.820       2.980      2.270  109.490\n",
       "25%     171.750      103.820       103.710       4.027      2.990  112.030\n",
       "50%     171.960      104.040       103.920       4.310      3.140  112.960\n",
       "75%     172.170      104.230       104.150       4.870      3.310  113.340\n",
       "max     173.010      104.880       104.950       6.900      3.910  114.440"
      ]
     },
     "execution_count": 20,
     "metadata": {},
     "output_type": "execute_result"
    }
   ],
   "source": [
    "# Application du modèle sur les données \n",
    "x_test = Reg_Lin_Test_df[[\"is_genuine\",\"diagonal\",\"height_left\",\"height_right\", \"margin_up\",\"length\"]]\n",
    "Reg_Lin_Test_df[\"margin_low\"] = reg_lin.predict(x_test)\n",
    "\n",
    "# Concaténation:\n",
    "reg_lin_result = [Reg_Lin_Test_df, Reg_Lin_Train_df]\n",
    "Billet_df = pd.concat(reg_lin_result)\n",
    "Billet_df = Billet_df.drop([\"margin_low_pred\", \"residus\"], axis=1)\n",
    "Billet_df.info()\n",
    "Billet_df.describe()"
   ]
  },
  {
   "cell_type": "code",
   "execution_count": 21,
   "id": "2fac26cd",
   "metadata": {},
   "outputs": [
    {
     "name": "stdout",
     "output_type": "stream",
     "text": [
      "<class 'pandas.core.frame.DataFrame'>\n",
      "Int64Index: 1500 entries, 72 to 1499\n",
      "Data columns (total 7 columns):\n",
      " #   Column        Non-Null Count  Dtype  \n",
      "---  ------        --------------  -----  \n",
      " 0   is_genuine    1500 non-null   bool   \n",
      " 1   diagonal      1500 non-null   float64\n",
      " 2   height_left   1500 non-null   float64\n",
      " 3   height_right  1500 non-null   float64\n",
      " 4   margin_low    1500 non-null   float64\n",
      " 5   margin_up     1500 non-null   float64\n",
      " 6   length        1500 non-null   float64\n",
      "dtypes: bool(1), float64(6)\n",
      "memory usage: 83.5 KB\n"
     ]
    },
    {
     "data": {
      "text/html": [
       "<div>\n",
       "<style scoped>\n",
       "    .dataframe tbody tr th:only-of-type {\n",
       "        vertical-align: middle;\n",
       "    }\n",
       "\n",
       "    .dataframe tbody tr th {\n",
       "        vertical-align: top;\n",
       "    }\n",
       "\n",
       "    .dataframe thead th {\n",
       "        text-align: right;\n",
       "    }\n",
       "</style>\n",
       "<table border=\"1\" class=\"dataframe\">\n",
       "  <thead>\n",
       "    <tr style=\"text-align: right;\">\n",
       "      <th></th>\n",
       "      <th>diagonal</th>\n",
       "      <th>height_left</th>\n",
       "      <th>height_right</th>\n",
       "      <th>margin_low</th>\n",
       "      <th>margin_up</th>\n",
       "      <th>length</th>\n",
       "    </tr>\n",
       "  </thead>\n",
       "  <tbody>\n",
       "    <tr>\n",
       "      <th>count</th>\n",
       "      <td>1500.000</td>\n",
       "      <td>1500.000</td>\n",
       "      <td>1500.000</td>\n",
       "      <td>1500.000</td>\n",
       "      <td>1500.000</td>\n",
       "      <td>1500.000</td>\n",
       "    </tr>\n",
       "    <tr>\n",
       "      <th>mean</th>\n",
       "      <td>171.958</td>\n",
       "      <td>104.030</td>\n",
       "      <td>103.920</td>\n",
       "      <td>4.483</td>\n",
       "      <td>3.151</td>\n",
       "      <td>112.679</td>\n",
       "    </tr>\n",
       "    <tr>\n",
       "      <th>std</th>\n",
       "      <td>0.305</td>\n",
       "      <td>0.299</td>\n",
       "      <td>0.326</td>\n",
       "      <td>0.660</td>\n",
       "      <td>0.232</td>\n",
       "      <td>0.873</td>\n",
       "    </tr>\n",
       "    <tr>\n",
       "      <th>min</th>\n",
       "      <td>171.040</td>\n",
       "      <td>103.140</td>\n",
       "      <td>102.820</td>\n",
       "      <td>2.980</td>\n",
       "      <td>2.270</td>\n",
       "      <td>109.490</td>\n",
       "    </tr>\n",
       "    <tr>\n",
       "      <th>25%</th>\n",
       "      <td>171.750</td>\n",
       "      <td>103.820</td>\n",
       "      <td>103.710</td>\n",
       "      <td>4.027</td>\n",
       "      <td>2.990</td>\n",
       "      <td>112.030</td>\n",
       "    </tr>\n",
       "    <tr>\n",
       "      <th>50%</th>\n",
       "      <td>171.960</td>\n",
       "      <td>104.040</td>\n",
       "      <td>103.920</td>\n",
       "      <td>4.310</td>\n",
       "      <td>3.140</td>\n",
       "      <td>112.960</td>\n",
       "    </tr>\n",
       "    <tr>\n",
       "      <th>75%</th>\n",
       "      <td>172.170</td>\n",
       "      <td>104.230</td>\n",
       "      <td>104.150</td>\n",
       "      <td>4.870</td>\n",
       "      <td>3.310</td>\n",
       "      <td>113.340</td>\n",
       "    </tr>\n",
       "    <tr>\n",
       "      <th>max</th>\n",
       "      <td>173.010</td>\n",
       "      <td>104.880</td>\n",
       "      <td>104.950</td>\n",
       "      <td>6.900</td>\n",
       "      <td>3.910</td>\n",
       "      <td>114.440</td>\n",
       "    </tr>\n",
       "  </tbody>\n",
       "</table>\n",
       "</div>"
      ],
      "text/plain": [
       "       diagonal  height_left  height_right  margin_low  margin_up   length\n",
       "count  1500.000     1500.000      1500.000    1500.000   1500.000 1500.000\n",
       "mean    171.958      104.030       103.920       4.483      3.151  112.679\n",
       "std       0.305        0.299         0.326       0.660      0.232    0.873\n",
       "min     171.040      103.140       102.820       2.980      2.270  109.490\n",
       "25%     171.750      103.820       103.710       4.027      2.990  112.030\n",
       "50%     171.960      104.040       103.920       4.310      3.140  112.960\n",
       "75%     172.170      104.230       104.150       4.870      3.310  113.340\n",
       "max     173.010      104.880       104.950       6.900      3.910  114.440"
      ]
     },
     "execution_count": 21,
     "metadata": {},
     "output_type": "execute_result"
    }
   ],
   "source": [
    "# Vérification des données après la régression linéaire\n",
    "Billet_df.info()\n",
    "Billet_df.describe()"
   ]
  },
  {
   "cell_type": "code",
   "execution_count": 22,
   "id": "bdb2db11",
   "metadata": {},
   "outputs": [
    {
     "data": {
      "text/plain": [
       "is_genuine      0\n",
       "diagonal        0\n",
       "height_left     0\n",
       "height_right    0\n",
       "margin_low      0\n",
       "margin_up       0\n",
       "length          0\n",
       "dtype: int64"
      ]
     },
     "execution_count": 22,
     "metadata": {},
     "output_type": "execute_result"
    }
   ],
   "source": [
    "# Vérification de l'absence de valeurs nulles\n",
    "Billet_df.isnull().sum()"
   ]
  },
  {
   "cell_type": "markdown",
   "id": "f1537955",
   "metadata": {},
   "source": [
    "# 5) Matrice de confusion et K-means"
   ]
  },
  {
   "cell_type": "markdown",
   "id": "8c9a9bbe",
   "metadata": {},
   "source": [
    "La matrice de confusion est en quelque sorte un résumé des résultats de prédiction pour un problème particulier de classification. Elle compare les données réelles pour une variable cible à celles prédites par un modèle. Les prédictions justes et fausses sont révélées et réparties par classe, ce qui permet de les comparer avec des valeurs définies.\n",
    "\n",
    "Également connue sous le nom de tableau de contingence, la matrice de confusion permet d'évaluer les performances d'un modèle de classification. Elle montre donc à quel point un certain modèle peut être confus lorsqu'il fait des prédictions. Dans sa forme la plus simple, il s'agit d'une matrice 2X2.\n",
    "\n",
    "La matrice de confusion permet de connaître d'une part les différentes erreurs commises par un algorithme de prédiction, mais plus important encore, de connaître les différents types d'erreurs commis."
   ]
  },
  {
   "cell_type": "markdown",
   "id": "4a5e9c59",
   "metadata": {},
   "source": [
    "Les 4 cas possibles lors d’une prédiction binaire sont :\n",
    "\n",
    "- Vrai négatif (True Negative) :\n",
    "La prédiction est négative et c’est la réalité.\n",
    "\n",
    "- Vrai positif (True Positive) :\n",
    "La prédiction est positive et c’est la réalité.\n",
    "\n",
    "- Faux positif (False positive), erreur de 1ère espèce :\n",
    "La prédiction est positive mais ce n’est pas la réalité.\n",
    "\n",
    "- Faux négatif (False negative), erreur de 2ème espèce :\n",
    "La prédiction est négative mais ce n’est pas la réalité."
   ]
  },
  {
   "cell_type": "code",
   "execution_count": 23,
   "id": "2f7f8e2c",
   "metadata": {},
   "outputs": [
    {
     "name": "stderr",
     "output_type": "stream",
     "text": [
      "C:\\Users\\acmla\\anaconda3\\lib\\site-packages\\sklearn\\base.py:450: UserWarning: X does not have valid feature names, but PCA was fitted with feature names\n",
      "  warnings.warn(\n"
     ]
    },
    {
     "data": {
      "image/png": "[encoded data removed]",
      "text/plain": [
       "<Figure size 432x288 with 1 Axes>"
      ]
     },
     "metadata": {
      "needs_background": "light"
     },
     "output_type": "display_data"
    },
    {
     "name": "stdout",
     "output_type": "stream",
     "text": [
      "is_genuine  False  True\n",
      "row_0                  \n",
      "0             481     2\n",
      "1              19   998\n"
     ]
    }
   ],
   "source": [
    "# Nombre de clusters (vrai - faux):\n",
    "n_clust = 2\n",
    "\n",
    "# Clustering par K-means:\n",
    "km = KMeans(n_clusters=n_clust,random_state=1994)\n",
    "x_km = km.fit_transform(Billet_df[[\"diagonal\",\"height_left\",\"height_right\",\"margin_low\",\"margin_up\",\"length\"]])\n",
    "\n",
    "# Ajout d'une colonne contenant le cluster attribué:\n",
    "clusters_km = km.labels_\n",
    "#billet_final[\"cluster_km\"] = km.labels_\n",
    "#billet_final[\"cluster_km\"] = billet_final[\"cluster_km\"].apply(str)\n",
    "\n",
    "centroids_km = km.cluster_centers_\n",
    "\n",
    "# Clustering par projection des individus sur le premier plan factoriel:\n",
    "pca_km = decomposition.PCA(n_components=2).fit(Billet_df[[\"diagonal\",\"height_left\",\"height_right\",\"margin_low\",\"margin_up\",\"length\"]])\n",
    "acp_km = PCA(n_components=2).fit_transform(Billet_df[[\"diagonal\",\"height_left\",\"height_right\",\"margin_low\",\"margin_up\",\"length\"]])\n",
    "\n",
    "centroids_km_projected = pca_km.transform(centroids_km)\n",
    "\n",
    "# Graphique:\n",
    "for couleur,k in zip([\"#3182bd\",\"#dbe9f3\"],[0,1]):\n",
    "    plt.scatter(acp_km[km.labels_==k,0],acp_km[km.labels_==k,1],c=couleur,edgecolors=\"#D3D3D3\",label=\"Cluster {}\".format(k))\n",
    "    plt.legend()\n",
    "    plt.scatter(centroids_km_projected[:,0],centroids_km_projected[:,1],color=\"grey\",label=\"Centroïdes\")\n",
    "plt.title(\"Projection des individus et des {} centroïdes sur le premier plan factoriel\".format(len(centroids_km)))\n",
    "plt.show()\n",
    "\n",
    "# Matrice de confusion:\n",
    "km_matrix = pd.crosstab(clusters_km,Billet_df[\"is_genuine\"])\n",
    "print(km_matrix)"
   ]
  },
  {
   "cell_type": "code",
   "execution_count": 24,
   "id": "4ccc091e",
   "metadata": {},
   "outputs": [
    {
     "data": {
      "text/plain": [
       "Text(0.5, 1.0, 'Matrice de confusion K-means\\n')"
      ]
     },
     "execution_count": 24,
     "metadata": {},
     "output_type": "execute_result"
    },
    {
     "data": {
      "image/png": "[encoded data removed]",
      "text/plain": [
       "<Figure size 432x288 with 2 Axes>"
      ]
     },
     "metadata": {
      "needs_background": "light"
     },
     "output_type": "display_data"
    }
   ],
   "source": [
    "# Matrice de confusion:\n",
    "sns.heatmap(km_matrix,\n",
    "            annot = True,\n",
    "            fmt = \".3g\", \n",
    "            cmap = sns.color_palette(\"viridis\", as_cmap=True),\n",
    "            linecolor = \"red\",\n",
    "            linewidths = 0.3,\n",
    "            xticklabels = [\"Faux\",\"Vrai\"],\n",
    "            yticklabels=[\"0\",\"1\"]\n",
    "            )\n",
    "plt.xlabel(\"Prédictions\")\n",
    "plt.ylabel(\"Cluster\")\n",
    "plt.title(\"Matrice de confusion K-means\\n\")"
   ]
  },
  {
   "cell_type": "markdown",
   "id": "22cf2722",
   "metadata": {},
   "source": [
    "- Parmis les 500 faux billets, 19 ont été détectés comme étant vrais\n",
    "\n",
    "- Parmis les 1000 vrais billets, 2 ont été détectés comme étant faux"
   ]
  },
  {
   "cell_type": "markdown",
   "id": "bb2f8453",
   "metadata": {},
   "source": [
    "# 6) KNN\n",
    "\n",
    "L’algorithme K-NN (K-nearest neighbors) est une méthode d’apprentissage supervisé. Il peut être utilisé aussi bien pour la régression que pour la classification. \n",
    "\n",
    "Son fonctionnement peut être assimilé à l’analogie suivante “dis moi qui sont tes voisins, je te dirais qui tu es…”.\n",
    "\n",
    "Pour pouvoir effectuer une prédiction, K-NN se base sur le jeu de données pour produire un résultat.\n",
    "\n",
    "\n",
    "* Étape 1 :  Sélectionnez le nombre K de voisins\n",
    "* Étape 2 :  Calculez la distance\n",
    "* Étape 3 :  Prenez les K voisins les plus proches selon la distance calculée.\n",
    "* Étape 4 :  Parmi ces K voisins, comptez le nombre de points  appartenant à chaque catégorie.\n",
    "* Étape 5 : Attribuez le nouveau point à la catégorie la plus présente parmis ces K voisins.\n",
    "* Étape 6 : Notre modèle est prêt :"
   ]
  },
  {
   "cell_type": "code",
   "execution_count": 25,
   "id": "e30b9b8f",
   "metadata": {},
   "outputs": [],
   "source": [
    "from sklearn.neighbors import KNeighborsClassifier\n",
    "from sklearn.preprocessing import StandardScaler\n",
    "from sklearn.pipeline import make_pipeline\n",
    "from sklearn import datasets\n",
    "from sklearn.model_selection import train_test_split\n",
    "from sklearn.metrics import accuracy_score\n",
    "from sklearn.model_selection import GridSearchCV"
   ]
  },
  {
   "cell_type": "code",
   "execution_count": 26,
   "id": "501e6b76",
   "metadata": {},
   "outputs": [],
   "source": [
    "x2train, x2test, y2train, y2test = train_test_split(Billet_df.drop([\"is_genuine\"],axis=1), Billet_df[[\"is_genuine\"]], test_size=0.2)"
   ]
  },
  {
   "cell_type": "code",
   "execution_count": 27,
   "id": "c0dc9379",
   "metadata": {},
   "outputs": [],
   "source": [
    "from sklearn.metrics import accuracy_score,silhouette_score\n",
    "from sklearn import preprocessing\n",
    "std_scale = preprocessing.StandardScaler().fit(x2train)\n",
    "X_train_std = std_scale.transform(x2train)\n",
    "X_test_std = std_scale.transform(x2test)"
   ]
  },
  {
   "cell_type": "code",
   "execution_count": 28,
   "id": "80dd44eb",
   "metadata": {},
   "outputs": [
    {
     "data": {
      "text/plain": [
       "(1200, 6)"
      ]
     },
     "execution_count": 28,
     "metadata": {},
     "output_type": "execute_result"
    }
   ],
   "source": [
    "X_train_std.shape"
   ]
  },
  {
   "cell_type": "code",
   "execution_count": 29,
   "id": "003dd08d",
   "metadata": {},
   "outputs": [
    {
     "data": {
      "image/png": "[encoded data removed]",
      "text/plain": [
       "<Figure size 432x288 with 1 Axes>"
      ]
     },
     "metadata": {
      "needs_background": "light"
     },
     "output_type": "display_data"
    }
   ],
   "source": [
    "from sklearn import neighbors,model_selection\n",
    "# Optimisation du score sur les données test\n",
    "errors = []\n",
    "for k in range(2,15):\n",
    "    knn = neighbors.KNeighborsClassifier(n_neighbors=k)\n",
    "    #knn.fit(x2train, y2train)\n",
    "    errors.append(100*(1 - knn.fit(X_train_std,y2train.values.ravel()).score(X_test_std,y2test.values.ravel())))\n",
    "plt.plot(range(2,15), errors, 'o-')\n",
    "plt.show()"
   ]
  },
  {
   "cell_type": "code",
   "execution_count": 30,
   "id": "6f465c62",
   "metadata": {},
   "outputs": [
    {
     "name": "stdout",
     "output_type": "stream",
     "text": [
      "Meilleur(s) hyperparamètre(s) sur le jeu d'entraînement:\n",
      "{'n_neighbors': 8}\n",
      "Résultats de la validation croisée :\n",
      "accuracy = 0.978 (+/-0.011) for {'n_neighbors': 2}\n",
      "accuracy = 0.985 (+/-0.021) for {'n_neighbors': 3}\n",
      "accuracy = 0.987 (+/-0.017) for {'n_neighbors': 4}\n",
      "accuracy = 0.990 (+/-0.012) for {'n_neighbors': 5}\n",
      "accuracy = 0.991 (+/-0.013) for {'n_neighbors': 6}\n",
      "accuracy = 0.991 (+/-0.013) for {'n_neighbors': 7}\n",
      "accuracy = 0.992 (+/-0.012) for {'n_neighbors': 8}\n",
      "accuracy = 0.991 (+/-0.013) for {'n_neighbors': 9}\n",
      "accuracy = 0.990 (+/-0.012) for {'n_neighbors': 10}\n",
      "accuracy = 0.991 (+/-0.013) for {'n_neighbors': 11}\n",
      "accuracy = 0.990 (+/-0.012) for {'n_neighbors': 12}\n",
      "accuracy = 0.990 (+/-0.012) for {'n_neighbors': 13}\n",
      "accuracy = 0.991 (+/-0.013) for {'n_neighbors': 14}\n",
      "accuracy = 0.990 (+/-0.012) for {'n_neighbors': 15}\n"
     ]
    }
   ],
   "source": [
    "from sklearn import model_selection\n",
    "# Fixer les valeurs des hyperparamètres à tester\n",
    "param_grid =  {'n_neighbors': range(2,16) }\n",
    "# Choisir un score à optimiser, ici l'accuracy (proportion de prédictions correctes)\n",
    "score = 'accuracy'\n",
    "\n",
    "# Création classifieur kNN \n",
    "clf1 = model_selection.GridSearchCV(\n",
    "    neighbors.KNeighborsClassifier(), # un classifieur kNN\n",
    "    param_grid,     # hyperparamètres à tester\n",
    "    cv=5,           # nombre de folds de validation croisée\n",
    "    scoring=score   # score à optimiser\n",
    ")\n",
    "\n",
    "# Optimisation\n",
    "clf1.fit(X_train_std, y2train.values.ravel())\n",
    "\n",
    "# Affichage des hyperparamètres optimaux\n",
    "print(\"Meilleur(s) hyperparamètre(s) sur le jeu d'entraînement:\")\n",
    "print(clf1.best_params_)\n",
    "\n",
    "# Affichage des performances correspondantes\n",
    "print(\"Résultats de la validation croisée :\")\n",
    "for mean, std, params in zip(\n",
    "        clf1.cv_results_['mean_test_score'], # score moyen\n",
    "        clf1.cv_results_['std_test_score'],  # écart-type du score\n",
    "        clf1.cv_results_['params']           # valeur de l'hyperparamètre\n",
    "    ):\n",
    "\n",
    "    print(\"{} = {:.3f} (+/-{:.03f}) for {}\".format(\n",
    "        score,\n",
    "        mean,\n",
    "        std*2,\n",
    "        params\n",
    "    ) )"
   ]
  },
  {
   "cell_type": "code",
   "execution_count": 31,
   "id": "49d2ae11",
   "metadata": {},
   "outputs": [
    {
     "data": {
      "text/plain": [
       "(300, 6)"
      ]
     },
     "execution_count": 31,
     "metadata": {},
     "output_type": "execute_result"
    }
   ],
   "source": [
    "x2test.shape"
   ]
  },
  {
   "cell_type": "code",
   "execution_count": 32,
   "id": "65348bf5",
   "metadata": {},
   "outputs": [
    {
     "name": "stdout",
     "output_type": "stream",
     "text": [
      "Vrais négatifs : 93 \n",
      "Vrais positifs : 206 \n",
      "Faux négatifs : 0 \n",
      "Faux positifs : 1\n"
     ]
    }
   ],
   "source": [
    "from sklearn.metrics import confusion_matrix\n",
    "# Affichage des : vrais négatifs, vrais positifs, faux négatifs, faux positifs\n",
    "tn0, fp0, fn0, tp0 = confusion_matrix(y2test,clf1.predict(X_test_std)).ravel()\n",
    "tn0, fp0, fn0, tp0\n",
    "print('Vrais négatifs :',tn0,\"\\n\"'Vrais positifs :',tp0,\"\\n\"'Faux négatifs :',fn0,\"\\n\"'Faux positifs :',fp0)"
   ]
  },
  {
   "cell_type": "markdown",
   "id": "5a419865",
   "metadata": {},
   "source": [
    "# 7) Régression logistique\n",
    "\n",
    "La régression logistique est une technique statistique qui a pour objectif, à partir d’un fichier d’observations, de produire un modèle permettant de prédire les valeurs prises par une variable catégorielle, le plus souvent binaire, à partir d’une série de variables explicatives continues et/ou binaires."
   ]
  },
  {
   "cell_type": "code",
   "execution_count": 33,
   "id": "e026a3f8",
   "metadata": {},
   "outputs": [
    {
     "name": "stdout",
     "output_type": "stream",
     "text": [
      "is_genuine\n",
      "True          1000\n",
      "False          500\n",
      "dtype: int64\n",
      "     const  diagonal  height_left  height_right  margin_low  margin_up  length\n",
      "72   1.000   171.940      103.890       103.450       4.065      3.250 112.790\n",
      "99   1.000   171.930      104.070       104.180       4.112      3.140 113.080\n",
      "151  1.000   172.070      103.800       104.380       4.134      3.020 112.930\n",
      "197  1.000   171.450      103.660       103.800       3.994      3.620 113.270\n",
      "241  1.000   171.830      104.140       104.060       4.140      3.020 112.360\n"
     ]
    },
    {
     "name": "stderr",
     "output_type": "stream",
     "text": [
      "C:\\Users\\acmla\\anaconda3\\lib\\site-packages\\statsmodels\\tsa\\tsatools.py:142: FutureWarning: In a future version of pandas all arguments of concat except for the argument 'objs' will be keyword-only\n",
      "  x = pd.concat(x[::order], 1)\n"
     ]
    }
   ],
   "source": [
    "# y (authenticité): \n",
    "y_billet = Billet_df.loc[:, Billet_df.columns == \"is_genuine\"]\n",
    "print(y_billet.value_counts())                                  \n",
    "\n",
    "# X (le reste):\n",
    "X_billet = Billet_df.loc[:, Billet_df.columns != \"is_genuine\"]\n",
    "X_billet = sm.tools.add_constant(X_billet)                      \n",
    "print(X_billet.head())"
   ]
  },
  {
   "cell_type": "code",
   "execution_count": 34,
   "id": "2c46aba2",
   "metadata": {},
   "outputs": [
    {
     "name": "stdout",
     "output_type": "stream",
     "text": [
      "Optimization terminated successfully.\n",
      "         Current function value: 0.026349\n",
      "         Iterations 13\n",
      "                           Logit Regression Results                           \n",
      "==============================================================================\n",
      "Dep. Variable:             is_genuine   No. Observations:                 1500\n",
      "Model:                          Logit   Df Residuals:                     1493\n",
      "Method:                           MLE   Df Model:                            6\n",
      "Date:                Wed, 09 Nov 2022   Pseudo R-squ.:                  0.9586\n",
      "Time:                        21:27:53   Log-Likelihood:                -39.524\n",
      "converged:                       True   LL-Null:                       -954.77\n",
      "Covariance Type:            nonrobust   LLR p-value:                     0.000\n",
      "================================================================================\n",
      "                   coef    std err          z      P>|z|      [0.025      0.975]\n",
      "--------------------------------------------------------------------------------\n",
      "const         -230.4143    249.954     -0.922      0.357    -720.316     259.487\n",
      "diagonal         0.2562      1.135      0.226      0.821      -1.969       2.481\n",
      "height_left     -1.2845      1.117     -1.150      0.250      -3.474       0.905\n",
      "height_right    -2.8941      1.143     -2.533      0.011      -5.134      -0.654\n",
      "margin_low      -6.0235      0.988     -6.099      0.000      -7.959      -4.088\n",
      "margin_up      -10.2986      2.206     -4.669      0.000     -14.622      -5.975\n",
      "length           6.0561      0.897      6.751      0.000       4.298       7.814\n",
      "================================================================================\n",
      "\n",
      "Possibly complete quasi-separation: A fraction 0.53 of observations can be\n",
      "perfectly predicted. This might indicate that there is complete\n",
      "quasi-separation. In this case some parameters will not be identified.\n"
     ]
    }
   ],
   "source": [
    "# Régression logistique:\n",
    "reg_log = Logit(endog=y_billet,exog=X_billet)\n",
    "\n",
    "# Calculs:\n",
    "res_log = reg_log.fit()\n",
    "\n",
    "# Résultats:\n",
    "print(res_log.summary())"
   ]
  },
  {
   "cell_type": "markdown",
   "id": "586da975",
   "metadata": {},
   "source": [
    "Variables x non-significatives au seuil alpha 5 % (si on prend alpha 1 %, on enlèvera height_right en plus), on recommence la régression sans ces variables (diagonal, height_left, height_right)."
   ]
  },
  {
   "cell_type": "code",
   "execution_count": 35,
   "id": "217012d3",
   "metadata": {},
   "outputs": [
    {
     "name": "stdout",
     "output_type": "stream",
     "text": [
      "Optimization terminated successfully.\n",
      "         Current function value: 0.026815\n",
      "         Iterations 13\n",
      "                         Results: Logit\n",
      "=================================================================\n",
      "Model:                Logit            Pseudo R-squared: 0.958   \n",
      "Dependent Variable:   is_genuine       AIC:              90.4453 \n",
      "Date:                 2022-11-09 21:27 BIC:              117.0114\n",
      "No. Observations:     1500             Log-Likelihood:   -40.223 \n",
      "Df Model:             4                LL-Null:          -954.77 \n",
      "Df Residuals:         1495             LLR p-value:      0.0000  \n",
      "Converged:            1.0000           Scale:            1.0000  \n",
      "No. Iterations:       13.0000                                    \n",
      "-----------------------------------------------------------------\n",
      "               Coef.   Std.Err.    z    P>|z|    [0.025   0.975] \n",
      "-----------------------------------------------------------------\n",
      "const        -285.3339 139.1600 -2.0504 0.0403 -558.0825 -12.5852\n",
      "height_right   -3.3223   1.1166 -2.9752 0.0029   -5.5109  -1.1337\n",
      "margin_low     -6.3080   0.9634 -6.5473 0.0000   -8.1963  -4.4197\n",
      "margin_up     -10.4027   2.1962 -4.7368 0.0000  -14.7071  -6.0983\n",
      "length          6.1579   0.8880  6.9345 0.0000    4.4174   7.8983\n",
      "=================================================================\n",
      "\n"
     ]
    },
    {
     "name": "stderr",
     "output_type": "stream",
     "text": [
      "C:\\Users\\acmla\\anaconda3\\lib\\site-packages\\statsmodels\\tsa\\tsatools.py:142: FutureWarning: In a future version of pandas all arguments of concat except for the argument 'objs' will be keyword-only\n",
      "  x = pd.concat(x[::order], 1)\n"
     ]
    }
   ],
   "source": [
    "# On ne garde que les variables significatives a alpha = 5% dans X_Billet:\n",
    "X_billet = Billet_df[[\"height_right\",\"margin_low\", \"margin_up\", \"length\"]]\n",
    "X_billet = sm.add_constant(X_billet)\n",
    "\n",
    "# On recommence la régression logistique:\n",
    "reg_log = Logit(endog=y_billet,exog=X_billet)\n",
    "\n",
    "# Modèle:\n",
    "model_reg_log = reg_log.fit()\n",
    "\n",
    "# Résultats:\n",
    "print(model_reg_log.summary2())\n"
   ]
  },
  {
   "cell_type": "code",
   "execution_count": 36,
   "id": "310bdc57",
   "metadata": {},
   "outputs": [
    {
     "data": {
      "text/html": [
       "<div>\n",
       "<style scoped>\n",
       "    .dataframe tbody tr th:only-of-type {\n",
       "        vertical-align: middle;\n",
       "    }\n",
       "\n",
       "    .dataframe tbody tr th {\n",
       "        vertical-align: top;\n",
       "    }\n",
       "\n",
       "    .dataframe thead th {\n",
       "        text-align: right;\n",
       "    }\n",
       "</style>\n",
       "<table border=\"1\" class=\"dataframe\">\n",
       "  <thead>\n",
       "    <tr style=\"text-align: right;\">\n",
       "      <th></th>\n",
       "      <th>is_genuine</th>\n",
       "      <th>diagonal</th>\n",
       "      <th>height_left</th>\n",
       "      <th>height_right</th>\n",
       "      <th>margin_low</th>\n",
       "      <th>margin_up</th>\n",
       "      <th>length</th>\n",
       "      <th>proba</th>\n",
       "      <th>y_pred</th>\n",
       "    </tr>\n",
       "  </thead>\n",
       "  <tbody>\n",
       "    <tr>\n",
       "      <th>72</th>\n",
       "      <td>True</td>\n",
       "      <td>171.940</td>\n",
       "      <td>103.890</td>\n",
       "      <td>103.450</td>\n",
       "      <td>4.065</td>\n",
       "      <td>3.250</td>\n",
       "      <td>112.790</td>\n",
       "      <td>0.998</td>\n",
       "      <td>1</td>\n",
       "    </tr>\n",
       "    <tr>\n",
       "      <th>99</th>\n",
       "      <td>True</td>\n",
       "      <td>171.930</td>\n",
       "      <td>104.070</td>\n",
       "      <td>104.180</td>\n",
       "      <td>4.112</td>\n",
       "      <td>3.140</td>\n",
       "      <td>113.080</td>\n",
       "      <td>0.998</td>\n",
       "      <td>1</td>\n",
       "    </tr>\n",
       "    <tr>\n",
       "      <th>151</th>\n",
       "      <td>True</td>\n",
       "      <td>172.070</td>\n",
       "      <td>103.800</td>\n",
       "      <td>104.380</td>\n",
       "      <td>4.134</td>\n",
       "      <td>3.020</td>\n",
       "      <td>112.930</td>\n",
       "      <td>0.997</td>\n",
       "      <td>1</td>\n",
       "    </tr>\n",
       "    <tr>\n",
       "      <th>197</th>\n",
       "      <td>True</td>\n",
       "      <td>171.450</td>\n",
       "      <td>103.660</td>\n",
       "      <td>103.800</td>\n",
       "      <td>3.994</td>\n",
       "      <td>3.620</td>\n",
       "      <td>113.270</td>\n",
       "      <td>0.989</td>\n",
       "      <td>1</td>\n",
       "    </tr>\n",
       "    <tr>\n",
       "      <th>241</th>\n",
       "      <td>True</td>\n",
       "      <td>171.830</td>\n",
       "      <td>104.140</td>\n",
       "      <td>104.060</td>\n",
       "      <td>4.140</td>\n",
       "      <td>3.020</td>\n",
       "      <td>112.360</td>\n",
       "      <td>0.965</td>\n",
       "      <td>1</td>\n",
       "    </tr>\n",
       "  </tbody>\n",
       "</table>\n",
       "</div>"
      ],
      "text/plain": [
       "     is_genuine  diagonal  height_left  height_right  margin_low  margin_up  \\\n",
       "72         True   171.940      103.890       103.450       4.065      3.250   \n",
       "99         True   171.930      104.070       104.180       4.112      3.140   \n",
       "151        True   172.070      103.800       104.380       4.134      3.020   \n",
       "197        True   171.450      103.660       103.800       3.994      3.620   \n",
       "241        True   171.830      104.140       104.060       4.140      3.020   \n",
       "\n",
       "     length  proba  y_pred  \n",
       "72  112.790  0.998       1  \n",
       "99  113.080  0.998       1  \n",
       "151 112.930  0.997       1  \n",
       "197 113.270  0.989       1  \n",
       "241 112.360  0.965       1  "
      ]
     },
     "execution_count": 36,
     "metadata": {},
     "output_type": "execute_result"
    }
   ],
   "source": [
    "# Application du modèle sur les données :\n",
    "Billet_df[\"proba\"] = model_reg_log.predict(X_billet)\n",
    "Billet_df[\"y_pred\"] = (model_reg_log.predict(X_billet) >= 0.5).astype(int)\n",
    "Billet_df.head()"
   ]
  },
  {
   "cell_type": "code",
   "execution_count": 37,
   "id": "3b156294",
   "metadata": {},
   "outputs": [
    {
     "name": "stdout",
     "output_type": "stream",
     "text": [
      "[[492.   8.]\n",
      " [  3. 997.]]\n"
     ]
    },
    {
     "data": {
      "text/plain": [
       "Text(0.5, 1.0, 'Matrice de confusion de la régression logistique\\n')"
      ]
     },
     "execution_count": 37,
     "metadata": {},
     "output_type": "execute_result"
    },
    {
     "data": {
      "image/png": "[encoded data removed]",
      "text/plain": [
       "<Figure size 432x288 with 2 Axes>"
      ]
     },
     "metadata": {
      "needs_background": "light"
     },
     "output_type": "display_data"
    }
   ],
   "source": [
    "# Matrice de confusion\n",
    "conf_matrix_reg_log = model_reg_log.pred_table()\n",
    "prct = (conf_matrix_reg_log)\n",
    "print(prct)\n",
    "\n",
    "sns.heatmap(conf_matrix_reg_log,\n",
    "            annot = True,\n",
    "            fmt = \".3g\", \n",
    "            cmap = sns.color_palette(\"viridis\", as_cmap=True),\n",
    "            linecolor = \"red\",\n",
    "            linewidths = 0.3,\n",
    "            xticklabels = [\"Faux\",\"Vrai\"],\n",
    "            yticklabels=[\"Faux\",\"Vrai\"]\n",
    "            )\n",
    "plt.xlabel(\"Prédictions\")\n",
    "plt.ylabel(\"Authenticité\")\n",
    "plt.title(\"Matrice de confusion de la régression logistique\\n\")"
   ]
  },
  {
   "cell_type": "markdown",
   "id": "3428ff1f",
   "metadata": {},
   "source": [
    "- Parmis les 500 faux billets, 8 ont été détectés comme étant vrais\n",
    "\n",
    "- Parmis les 1000 vrais billets, 3 ont été détectés comme étant faux"
   ]
  },
  {
   "cell_type": "markdown",
   "id": "bb745c87",
   "metadata": {},
   "source": [
    "# 8) Test avec billets_production fournis"
   ]
  },
  {
   "cell_type": "code",
   "execution_count": 38,
   "id": "5028bd60",
   "metadata": {},
   "outputs": [
    {
     "name": "stdout",
     "output_type": "stream",
     "text": [
      "    id  proba  y_pred\n",
      "0  A_1  0.000       0\n",
      "1  A_2  0.000       0\n",
      "2  A_3  0.000       0\n",
      "3  A_4  0.996       1\n",
      "4  A_5  1.000       1\n",
      "\n",
      "Indetification des billets:\n",
      "Le billet A_1 est faux\n",
      "Le billet A_2 est faux\n",
      "Le billet A_3 est faux\n",
      "Le billet A_4 est vrai\n",
      "Le billet A_5 est vrai\n"
     ]
    },
    {
     "name": "stderr",
     "output_type": "stream",
     "text": [
      "C:\\Users\\acmla\\anaconda3\\lib\\site-packages\\statsmodels\\tsa\\tsatools.py:142: FutureWarning: In a future version of pandas all arguments of concat except for the argument 'objs' will be keyword-only\n",
      "  x = pd.concat(x[::order], 1)\n"
     ]
    }
   ],
   "source": [
    "# Test avec la régression logistique sur les données test fournies (billets_production) :\n",
    "\n",
    "Billet_test_df = pd.read_csv(\"billets_production.csv\")\n",
    "\n",
    "\n",
    "X_test = Billet_test_df[[\"height_right\",\"margin_low\",\"margin_up\",\"length\"]]\n",
    "X_test = sm.add_constant(X_test)\n",
    "Billet_test_df[\"proba\"] = model_reg_log.predict(X_test)\n",
    "Billet_test_df[\"y_pred\"] = (model_reg_log.predict(X_test) >= 0.5).astype(int)\n",
    "print(Billet_test_df[[\"id\",\"proba\",\"y_pred\"]])\n",
    "\n",
    "\n",
    "print(\"\\nIndetification des billets:\")\n",
    "for i, k in zip(Billet_test_df[\"y_pred\"],Billet_test_df[\"id\"]):\n",
    "    if i == 1:\n",
    "        print(\"Le billet\",\"{}\".format(k),\"est vrai\")\n",
    "    else:\n",
    "        print(\"Le billet\",\"{}\".format(k),\"est faux\")"
   ]
  },
  {
   "cell_type": "markdown",
   "id": "3a1438e0",
   "metadata": {},
   "source": [
    "# 9) Test avec un second fichier"
   ]
  },
  {
   "cell_type": "code",
   "execution_count": 39,
   "id": "c6a6b90f",
   "metadata": {},
   "outputs": [
    {
     "name": "stdout",
     "output_type": "stream",
     "text": [
      "    id  proba  y_pred\n",
      "0  A_1  0.000       0\n",
      "1  A_2  0.000       0\n",
      "2  A_3  0.000       0\n",
      "3  A_4  0.996       1\n",
      "4  A_5  1.000       1\n",
      "\n",
      "Indetification des billets:\n",
      "Le billet A_1 est faux\n",
      "Le billet A_2 est faux\n",
      "Le billet A_3 est faux\n",
      "Le billet A_4 est vrai\n",
      "Le billet A_5 est vrai\n"
     ]
    },
    {
     "name": "stderr",
     "output_type": "stream",
     "text": [
      "C:\\Users\\acmla\\anaconda3\\lib\\site-packages\\statsmodels\\tsa\\tsatools.py:142: FutureWarning: In a future version of pandas all arguments of concat except for the argument 'objs' will be keyword-only\n",
      "  x = pd.concat(x[::order], 1)\n"
     ]
    }
   ],
   "source": [
    "# Test avec la régression logistique sur les données test fournies (billets_production_test) :\n",
    "\n",
    "testbillet = pd.read_csv(\"billets_production_test.csv\")\n",
    "\n",
    "\n",
    "X_test = testbillet[[\"height_right\",\"margin_low\",\"margin_up\",\"length\"]]\n",
    "X_test = sm.add_constant(X_test)\n",
    "testbillet[\"proba\"] = model_reg_log.predict(X_test)\n",
    "testbillet[\"y_pred\"] = (model_reg_log.predict(X_test) >= 0.5).astype(int)\n",
    "print(testbillet[[\"id\",\"proba\",\"y_pred\"]])\n",
    "\n",
    "\n",
    "print(\"\\nIndetification des billets:\")\n",
    "for i, k in zip(testbillet[\"y_pred\"],testbillet[\"id\"]):\n",
    "    if i == 1:\n",
    "        print(\"Le billet\",\"{}\".format(k),\"est vrai\")\n",
    "    else:\n",
    "        print(\"Le billet\",\"{}\".format(k),\"est faux\")"
   ]
  },
  {
   "cell_type": "code",
   "execution_count": null,
   "id": "fafcea05",
   "metadata": {},
   "outputs": [],
   "source": []
  }
 ],
 "metadata": {
  "kernelspec": {
   "display_name": "Python 3 (ipykernel)",
   "language": "python",
   "name": "python3"
  },
  "language_info": {
   "codemirror_mode": {
    "name": "ipython",
    "version": 3
   },
   "file_extension": ".py",
   "mimetype": "text/x-python",
   "name": "python",
   "nbconvert_exporter": "python",
   "pygments_lexer": "ipython3",
   "version": "3.9.7"
  }
 },
 "nbformat": 4,
 "nbformat_minor": 5
}
